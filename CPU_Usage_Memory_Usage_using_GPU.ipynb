{
  "nbformat": 4,
  "nbformat_minor": 0,
  "metadata": {
    "colab": {
      "provenance": [],
      "mount_file_id": "1zgY-W7wCFUzawLOAePqyr9mNYYf18HEj",
      "authorship_tag": "ABX9TyMvQnswX8Lhh8xlLA7PGP11",
      "include_colab_link": true
    },
    "kernelspec": {
      "name": "python3",
      "display_name": "Python 3"
    },
    "language_info": {
      "name": "python"
    },
    "accelerator": "GPU",
    "gpuClass": "standard"
  },
  "cells": [
    {
      "cell_type": "markdown",
      "metadata": {
        "id": "view-in-github",
        "colab_type": "text"
      },
      "source": [
        "<a href=\"https://colab.research.google.com/github/VellummyilumVinoth/CPU_Usage_Memory_Usage_using_GPU/blob/main/CPU_Usage_Memory_Usage_using_GPU.ipynb\" target=\"_parent\"><img src=\"https://colab.research.google.com/assets/colab-badge.svg\" alt=\"Open In Colab\"/></a>"
      ]
    },
    {
      "cell_type": "code",
      "source": [
        "! pip install transformers"
      ],
      "metadata": {
        "colab": {
          "base_uri": "https://localhost:8080/"
        },
        "id": "ic3AeAsjZ7M_",
        "outputId": "4f972565-6b3b-4ae6-d7f0-0d8318f4dd6f"
      },
      "execution_count": null,
      "outputs": [
        {
          "output_type": "stream",
          "name": "stdout",
          "text": [
            "Looking in indexes: https://pypi.org/simple, https://us-python.pkg.dev/colab-wheels/public/simple/\n",
            "Collecting transformers\n",
            "  Downloading transformers-4.27.4-py3-none-any.whl (6.8 MB)\n",
            "\u001b[2K     \u001b[90m━━━━━━━━━━━━━━━━━━━━━━━━━━━━━━━━━━━━━━━━\u001b[0m \u001b[32m6.8/6.8 MB\u001b[0m \u001b[31m71.3 MB/s\u001b[0m eta \u001b[36m0:00:00\u001b[0m\n",
            "\u001b[?25hRequirement already satisfied: requests in /usr/local/lib/python3.9/dist-packages (from transformers) (2.27.1)\n",
            "Requirement already satisfied: numpy>=1.17 in /usr/local/lib/python3.9/dist-packages (from transformers) (1.22.4)\n",
            "Requirement already satisfied: regex!=2019.12.17 in /usr/local/lib/python3.9/dist-packages (from transformers) (2022.10.31)\n",
            "Collecting tokenizers!=0.11.3,<0.14,>=0.11.1\n",
            "  Downloading tokenizers-0.13.3-cp39-cp39-manylinux_2_17_x86_64.manylinux2014_x86_64.whl (7.8 MB)\n",
            "\u001b[2K     \u001b[90m━━━━━━━━━━━━━━━━━━━━━━━━━━━━━━━━━━━━━━━━\u001b[0m \u001b[32m7.8/7.8 MB\u001b[0m \u001b[31m103.3 MB/s\u001b[0m eta \u001b[36m0:00:00\u001b[0m\n",
            "\u001b[?25hRequirement already satisfied: pyyaml>=5.1 in /usr/local/lib/python3.9/dist-packages (from transformers) (6.0)\n",
            "Requirement already satisfied: filelock in /usr/local/lib/python3.9/dist-packages (from transformers) (3.10.7)\n",
            "Collecting huggingface-hub<1.0,>=0.11.0\n",
            "  Downloading huggingface_hub-0.13.4-py3-none-any.whl (200 kB)\n",
            "\u001b[2K     \u001b[90m━━━━━━━━━━━━━━━━━━━━━━━━━━━━━━━━━━━━━━\u001b[0m \u001b[32m200.1/200.1 kB\u001b[0m \u001b[31m20.0 MB/s\u001b[0m eta \u001b[36m0:00:00\u001b[0m\n",
            "\u001b[?25hRequirement already satisfied: packaging>=20.0 in /usr/local/lib/python3.9/dist-packages (from transformers) (23.0)\n",
            "Requirement already satisfied: tqdm>=4.27 in /usr/local/lib/python3.9/dist-packages (from transformers) (4.65.0)\n",
            "Requirement already satisfied: typing-extensions>=3.7.4.3 in /usr/local/lib/python3.9/dist-packages (from huggingface-hub<1.0,>=0.11.0->transformers) (4.5.0)\n",
            "Requirement already satisfied: urllib3<1.27,>=1.21.1 in /usr/local/lib/python3.9/dist-packages (from requests->transformers) (1.26.15)\n",
            "Requirement already satisfied: charset-normalizer~=2.0.0 in /usr/local/lib/python3.9/dist-packages (from requests->transformers) (2.0.12)\n",
            "Requirement already satisfied: certifi>=2017.4.17 in /usr/local/lib/python3.9/dist-packages (from requests->transformers) (2022.12.7)\n",
            "Requirement already satisfied: idna<4,>=2.5 in /usr/local/lib/python3.9/dist-packages (from requests->transformers) (3.4)\n",
            "Installing collected packages: tokenizers, huggingface-hub, transformers\n",
            "Successfully installed huggingface-hub-0.13.4 tokenizers-0.13.3 transformers-4.27.4\n"
          ]
        }
      ]
    },
    {
      "cell_type": "code",
      "execution_count": null,
      "metadata": {
        "colab": {
          "base_uri": "https://localhost:8080/"
        },
        "id": "b3xtrfC0Y-Jp",
        "outputId": "0f8e0864-03b4-463a-b782-69676d80e19d"
      },
      "outputs": [
        {
          "output_type": "stream",
          "name": "stdout",
          "text": [
            "╒════════════════════╤══════════╤═════════╤════════╤════════╤════════╤══════════╕\n",
            "│ Fine-Tuned Model   │ <mask>   │   check │    int │      s │     bb │   string │\n",
            "╞════════════════════╪══════════╪═════════╪════════╪════════╪════════╪══════════╡\n",
            "│ Probability        │          │  0.0979 │ 0.0768 │ 0.0236 │ 0.0206 │   0.0168 │\n",
            "╘════════════════════╧══════════╧═════════╧════════╧════════╧════════╧══════════╛\n",
            "CPU usage for predict_masked_token: 3.60%\n",
            "CPU usage for load_model and predict_masked_token: 5.85%\n",
            "Memory usage for predict_masked_token: 6.61 MB\n",
            "Memory usage for load_model and predict_masked_token: 96.49 MB\n",
            "Time taken for predict_masked_token: 151.57 ms\n"
          ]
        }
      ],
      "source": [
        "import torch\n",
        "import datetime\n",
        "from transformers import AlbertForMaskedLM,RobertaTokenizerFast\n",
        "from tabulate import tabulate\n",
        "import os\n",
        "import psutil\n",
        "\n",
        "# Start CPU and memory usage monitoring for load the model\n",
        "process = psutil.Process()\n",
        "start_mem = process.memory_info().rss  / 1024 / 1024\n",
        "start_cpu = process.cpu_percent()\n",
        "\n",
        "# Load the trained model and tokenizer\n",
        "output_dir = os.path.expanduser(\"/content/drive/MyDrive/finetuned_albert\")\n",
        "model = AlbertForMaskedLM.from_pretrained(output_dir)\n",
        "tokenizer = RobertaTokenizerFast.from_pretrained(output_dir)\n",
        "\n",
        "def predict_masked_token(masked_statement, tokenizer, model):\n",
        "\n",
        "    # Tokenize the masked statement\n",
        "    input_ids = tokenizer.encode(masked_statement, add_special_tokens=False, return_tensors='pt')\n",
        "\n",
        "    # Find the position of the masked token\n",
        "    masked_token_index = torch.where(input_ids == tokenizer.mask_token_id)[1][0].item()\n",
        "\n",
        "    # Generate predictions for the masked token using the fine-tuned model\n",
        "    with torch.no_grad():\n",
        "        outputs = model(input_ids)\n",
        "        predictions = outputs[0]\n",
        "\n",
        "    # Get the top 5 predictions and their probability scores from the fine-tuned model\n",
        "    probs_ft = torch.nn.functional.softmax(predictions[0, masked_token_index], dim=-1)\n",
        "    top_k_ft = torch.topk(probs_ft, k=5)\n",
        "\n",
        "    # Create a table with the top predictions and their probabilities from both models\n",
        "    table = [[\"Fine-Tuned Model\", f\"{tokenizer.mask_token}\"] + [tokenizer.convert_ids_to_tokens([idx])[0].replace('Ġ', '').lower() for idx in top_k_ft.indices],\n",
        "             [\"Probability\", \"\"] + [f\"{probs_ft[idx].item():.4f}\" for idx in top_k_ft.indices]]\n",
        "\n",
        "    # Print the table\n",
        "    print(tabulate(table, headers=\"firstrow\", tablefmt=\"fancy_grid\"))\n",
        "\n",
        "    return table\n",
        "\n",
        "# Define a sample masked statement\n",
        "masked_statement = \"int <mask> = getAge();\"\n",
        "\n",
        "# Get the current timestamp\n",
        "start_time = datetime.datetime.now()\n",
        "\n",
        "# Start CPU and memory usage monitoring for this function\n",
        "start_cpu1 = process.cpu_percent()\n",
        "start_mem1 = process.memory_info().rss  / 1024 / 1024\n",
        "\n",
        "# Call the function to generate predictions for the masked token\n",
        "table = predict_masked_token(masked_statement, tokenizer, model)\n",
        "\n",
        "# Stop CPU and memory usage monitoring for this function and print the results\n",
        "end_cpu = process.cpu_percent()\n",
        "end_mem = process.memory_info().rss  / 1024 / 1024\n",
        "print(f\"CPU usage for predict_masked_token: {(end_cpu - start_cpu1)/8 :.2f}%\")\n",
        "print(f\"CPU usage for load_model and predict_masked_token: {(end_cpu - start_cpu)/8 :.2f}%\")\n",
        "print(f\"Memory usage for predict_masked_token: {(end_mem - start_mem1) :.2f} MB\")\n",
        "print(f\"Memory usage for load_model and predict_masked_token: {(end_mem - start_mem) :.2f} MB\")\n",
        "\n",
        "end_time = datetime.datetime.now()\n",
        "\n",
        "# calculate elapsed time in milliseconds\n",
        "elapsed_ms = (end_time.timestamp() - start_time.timestamp()) * 1000\n",
        "\n",
        "print(f\"Time taken for predict_masked_token: {elapsed_ms:.2f} ms\")\n"
      ]
    }
  ]
}